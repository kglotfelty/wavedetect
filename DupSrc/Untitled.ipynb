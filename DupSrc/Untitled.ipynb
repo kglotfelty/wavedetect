{
 "cells": [
  {
   "cell_type": "code",
   "execution_count": 2,
   "metadata": {
    "collapsed": false
   },
   "outputs": [
    {
     "name": "stdout",
     "output_type": "stream",
     "text": [
      "CIAO configuration is complete... \r\n",
      "The CIAO setup for this window has changed from\r\n",
      "CIAO 4.9 Friday, December  2, 2016\r\n",
      "  bindir      : /soft/ciao-4.9/bin\r\n",
      "  CALDB       : 4.7.3\r\n",
      "To:\r\n",
      "CIAO 4.9 Friday, December  2, 2016\r\n",
      "  bindir      : /export/ciao-4.9/bin\r\n",
      "  CALDB       : 4.7.3\r\n"
     ]
    }
   ],
   "source": [
    "source /export/ciao/bin/ciao.bash -o\n"
   ]
  },
  {
   "cell_type": "code",
   "execution_count": 3,
   "metadata": {
    "collapsed": false
   },
   "outputs": [
    {
     "name": "stdout",
     "output_type": "stream",
     "text": [
      "/export/ciao-4.9/bin/dmimggrad\r\n"
     ]
    }
   ],
   "source": [
    "which dmimggrad"
   ]
  },
  {
   "cell_type": "code",
   "execution_count": 4,
   "metadata": {
    "collapsed": false
   },
   "outputs": [
    {
     "name": "stdout",
     "output_type": "stream",
     "text": [
      "\r\n",
      "Parameters for /export/ciao-4.9/param/dmimggrad.par\r\n",
      "\r\n",
      "        infile =                  Input image file name\r\n",
      "       outfile =                  Output file name\r\n",
      "      gradient = laplace          Which gradient estimator\r\n",
      "         value = mag              What to output\r\n",
      "        (width = INDEF)           Width of the gradient operator\r\n",
      "      (verbose = 0)               Tool verbosity\r\n",
      "      (clobber = no)              Clobber existing output?\r\n",
      "         (mode = ql)              \r\n",
      "\r\n"
     ]
    }
   ],
   "source": [
    "plist dmimggrad"
   ]
  },
  {
   "cell_type": "code",
   "execution_count": 5,
   "metadata": {
    "collapsed": false
   },
   "outputs": [
    {
     "name": "stdout",
     "output_type": "stream",
     "text": [
      "laplace|roberts|prewitt|sobel|robison|kirsch|gaussian\r\n"
     ]
    }
   ],
   "source": [
    "pget dmimggrad gradient.p_min"
   ]
  },
  {
   "cell_type": "code",
   "execution_count": 9,
   "metadata": {
    "collapsed": false
   },
   "outputs": [
    {
     "name": "stdout",
     "output_type": "stream",
     "text": [
      "x|y|mag|angle\r\n"
     ]
    }
   ],
   "source": [
    "pget dmimggrad value.p_min"
   ]
  },
  {
   "cell_type": "code",
   "execution_count": 6,
   "metadata": {
    "collapsed": false
   },
   "outputs": [
    {
     "name": "stdout",
     "output_type": "stream",
     "text": []
    }
   ],
   "source": [
    "infile=tmpdir/acisf02233_broad_thresh_000120_000120_flux.fits"
   ]
  },
  {
   "cell_type": "code",
   "execution_count": 12,
   "metadata": {
    "collapsed": false
   },
   "outputs": [
    {
     "name": "stdout",
     "output_type": "stream",
     "text": []
    }
   ],
   "source": [
    "dmimggrad $infile sobel.grad sobel mag clob+\n",
    "ds9 sobel.grad "
   ]
  },
  {
   "cell_type": "code",
   "execution_count": 17,
   "metadata": {
    "collapsed": false
   },
   "outputs": [
    {
     "name": "stdout",
     "output_type": "stream",
     "text": []
    }
   ],
   "source": [
    "dmimgfilt sobel.grad - plain \"box(0,0,3,3)\" | \\\n",
    " dmimgthresh - sobel.min cut=INDEF value=0 clob+\n",
    "ds9 sobel.min"
   ]
  },
  {
   "cell_type": "code",
   "execution_count": 14,
   "metadata": {
    "collapsed": false
   },
   "outputs": [
    {
     "name": "stdout",
     "output_type": "stream",
     "text": [
      " \r\n",
      "--------------------------------------------------------------------------------\r\n",
      "Columns for Image Block sobel.min\r\n",
      "--------------------------------------------------------------------------------\r\n",
      " \r\n",
      "ColNo  Name                 Unit        Type             Range\r\n",
      "   1   sobel.min[4006,3168]              Real4(4006x3168) -Inf:+Inf            \r\n",
      " \r\n",
      "--------------------------------------------------------------------------------\r\n",
      "Physical Axis Transforms for Image Block sobel.min\r\n",
      "--------------------------------------------------------------------------------\r\n",
      " \r\n",
      "Group# Axis# \r\n",
      "   1   1,2    sky(x) = (+2441.50) +(+1.0)* ((#1)-(+0.50))\r\n",
      "                 (y)   (+2677.50)  (+1.0)  ((#2) (+0.50))\r\n",
      " \r\n",
      "--------------------------------------------------------------------------------\r\n",
      "World Coordinate Axis Transforms for Image Block sobel.min\r\n",
      "--------------------------------------------------------------------------------\r\n",
      " \r\n",
      "Group# Axis# \r\n",
      "   1   1,2    EQPOS(RA ) = (+189.1483)[degree] +TAN[(-0.000136667)* (sky(x)-(+4096.50))]\r\n",
      "                   (DEC)   (+62.2427 )              (+0.000136667)  (   (y) (+4096.50)) \r\n"
     ]
    }
   ],
   "source": [
    "dmlist sobel.min cols\n"
   ]
  },
  {
   "cell_type": "code",
   "execution_count": 16,
   "metadata": {
    "collapsed": false
   },
   "outputs": [
    {
     "name": "stdout",
     "output_type": "stream",
     "text": [
      "min|max|mean|median|mode|mid|sigma|extreme|locheq|kuwahara|unsharp|range|variance|nmode|q25|q33|q67|q75|qxx|mcv|sum|rclip|peak|ridge|valley|plain|count|olympic|pmean|mu3|mu4|jitter|rms|nslope|3sigmean|3sigmedian\r\n"
     ]
    }
   ],
   "source": [
    "pget dmimgfilt function.p_min"
   ]
  },
  {
   "cell_type": "code",
   "execution_count": 35,
   "metadata": {
    "collapsed": false
   },
   "outputs": [
    {
     "name": "stdout",
     "output_type": "stream",
     "text": []
    }
   ],
   "source": [
    "dmimgfilt $infile - peak \"box(0,0,3,3)\" | \\\n",
    "dmimgthresh - peaks cut=INDEF value=-1 clob+\n",
    "\n",
    "ds9 peaks"
   ]
  },
  {
   "cell_type": "code",
   "execution_count": 38,
   "metadata": {
    "collapsed": false
   },
   "outputs": [
    {
     "name": "stdout",
     "output_type": "stream",
     "text": []
    }
   ],
   "source": [
    "dmimgthresh peaks - cut=:0 value=1 | \\\n",
    "dmimgcalc - none inv_peaks op=\"imgout=(0-img1)\" clob+\n",
    "\n",
    "\n",
    "ds9 inv_peaks\n"
   ]
  },
  {
   "cell_type": "code",
   "execution_count": 41,
   "metadata": {
    "collapsed": false
   },
   "outputs": [
    {
     "name": "stdout",
     "output_type": "stream",
     "text": []
    }
   ],
   "source": [
    "dmimgdist inv_peaks dist clob+ tol=0\n",
    "ds9 dist "
   ]
  },
  {
   "cell_type": "code",
   "execution_count": null,
   "metadata": {
    "collapsed": true
   },
   "outputs": [],
   "source": [
    "\n"
   ]
  },
  {
   "cell_type": "code",
   "execution_count": null,
   "metadata": {
    "collapsed": true
   },
   "outputs": [],
   "source": []
  },
  {
   "cell_type": "code",
   "execution_count": 44,
   "metadata": {
    "collapsed": false
   },
   "outputs": [
    {
     "name": "stdout",
     "output_type": "stream",
     "text": []
    }
   ],
   "source": [
    "aconvolve $infile - \"txt: ((0,1,0),(1,-4,1),(0,1,0))\" meth=slide norm=none | \\\n",
    "  aconvolve - laplace \"txt: ((0,1,0),(1,-4,1),(0,1,0))\" meth=slide norm=none clob+ \n",
    "\n",
    "ds9 laplace"
   ]
  },
  {
   "cell_type": "code",
   "execution_count": null,
   "metadata": {
    "collapsed": true
   },
   "outputs": [],
   "source": []
  },
  {
   "cell_type": "code",
   "execution_count": null,
   "metadata": {
    "collapsed": true
   },
   "outputs": [],
   "source": []
  },
  {
   "cell_type": "code",
   "execution_count": null,
   "metadata": {
    "collapsed": true
   },
   "outputs": [],
   "source": []
  }
 ],
 "metadata": {
  "kernelspec": {
   "display_name": "Bash",
   "language": "bash",
   "name": "bash"
  },
  "language_info": {
   "codemirror_mode": "shell",
   "file_extension": ".sh",
   "mimetype": "text/x-sh",
   "name": "bash"
  }
 },
 "nbformat": 4,
 "nbformat_minor": 2
}
